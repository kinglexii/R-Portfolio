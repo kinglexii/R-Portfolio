{
 "cells": [
  {
   "cell_type": "code",
   "execution_count": 17,
   "metadata": {},
   "outputs": [],
   "source": [
    "# Import required packages and functions and set the session seed\n",
    "import numpy as np\n",
    "np.random.seed(1234)\n",
    "from tensorflow import set_random_seed\n",
    "set_random_seed(1234)\n",
    "import tensorflow as tf\n",
    "from tensorflow import keras\n",
    "import matplotlib.pyplot as plt\n",
    "import keras\n",
    "from keras.models import Sequential\n",
    "from keras.layers import Dense, Activation, Flatten, Conv2D, MaxPooling2D\n",
    "from keras.layers import Dropout, SpatialDropout2D\n",
    "from keras.applications import VGG19\n",
    "from keras.applications.vgg19 import preprocess_input\n",
    "from keras.models import Model\n",
    "from keras.datasets import fashion_mnist\n",
    "from keras.utils import to_categorical\n",
    "from keras import models\n",
    "from keras import layers\n",
    "from keras import optimizers"
   ]
  },
  {
   "cell_type": "code",
   "execution_count": 3,
   "metadata": {},
   "outputs": [],
   "source": [
    "# Load the Fashion MNIST data from Keras\n",
    "(train_images, train_labels), (test_images, test_labels) = fashion_mnist.load_data()"
   ]
  },
  {
   "cell_type": "code",
   "execution_count": 4,
   "metadata": {},
   "outputs": [],
   "source": [
    "# Normalize the image data by dividing through the maximum pixel value (=255)\n",
    "train_images = train_images / train_images.max()\n",
    "test_images = test_images / test_images.max()"
   ]
  },
  {
   "cell_type": "code",
   "execution_count": 5,
   "metadata": {},
   "outputs": [
    {
     "name": "stdout",
     "output_type": "stream",
     "text": [
      "WARNING:tensorflow:From /Library/Frameworks/Python.framework/Versions/3.7/lib/python3.7/site-packages/tensorflow/python/framework/op_def_library.py:263: colocate_with (from tensorflow.python.framework.ops) is deprecated and will be removed in a future version.\n",
      "Instructions for updating:\n",
      "Colocations handled automatically by placer.\n"
     ]
    }
   ],
   "source": [
    "# Build a simple three-layer (1 hidden layer) model\n",
    "# The input size is 28 x 28 pixels and is flattened to a vector of length 784\n",
    "# The activation function is RELU (rectified linear unit) and performs the \n",
    "# multiplication of input and weights (plus bias)\n",
    "# The output (softmax) layer returns probabilities for all ten classes\n",
    "three_layer_model = Sequential()\n",
    "three_layer_model.add(Flatten(input_shape = (28, 28)))\n",
    "three_layer_model.add(Dense(128, activation = 'relu'))\n",
    "three_layer_model.add(Dense(10, activation = 'softmax'))"
   ]
  },
  {
   "cell_type": "code",
   "execution_count": 6,
   "metadata": {},
   "outputs": [
    {
     "name": "stdout",
     "output_type": "stream",
     "text": [
      "WARNING:tensorflow:From /Library/Frameworks/Python.framework/Versions/3.7/lib/python3.7/site-packages/tensorflow/python/ops/math_ops.py:3066: to_int32 (from tensorflow.python.ops.math_ops) is deprecated and will be removed in a future version.\n",
      "Instructions for updating:\n",
      "Use tf.cast instead.\n",
      "Train on 42000 samples, validate on 18000 samples\n",
      "Epoch 1/10\n",
      " - 2s - loss: 0.5272 - acc: 0.8147 - val_loss: 0.4240 - val_acc: 0.8543\n",
      "Epoch 2/10\n",
      " - 3s - loss: 0.3953 - acc: 0.8574 - val_loss: 0.3958 - val_acc: 0.8587\n",
      "Epoch 3/10\n",
      " - 2s - loss: 0.3549 - acc: 0.8712 - val_loss: 0.3641 - val_acc: 0.8684\n",
      "Epoch 4/10\n",
      " - 2s - loss: 0.3300 - acc: 0.8783 - val_loss: 0.3533 - val_acc: 0.8698\n",
      "Epoch 5/10\n",
      " - 2s - loss: 0.3076 - acc: 0.8864 - val_loss: 0.3546 - val_acc: 0.8732\n",
      "Epoch 6/10\n",
      " - 2s - loss: 0.2942 - acc: 0.8912 - val_loss: 0.3352 - val_acc: 0.8768\n",
      "Epoch 7/10\n",
      " - 2s - loss: 0.2782 - acc: 0.8973 - val_loss: 0.3289 - val_acc: 0.8811\n",
      "Epoch 8/10\n",
      " - 2s - loss: 0.2657 - acc: 0.9015 - val_loss: 0.3672 - val_acc: 0.8673\n",
      "Epoch 9/10\n",
      " - 2s - loss: 0.2579 - acc: 0.9045 - val_loss: 0.3380 - val_acc: 0.8794\n",
      "Epoch 10/10\n",
      " - 2s - loss: 0.2465 - acc: 0.9090 - val_loss: 0.3414 - val_acc: 0.8770\n"
     ]
    },
    {
     "data": {
      "text/plain": [
       "<keras.callbacks.History at 0x15258dd30>"
      ]
     },
     "execution_count": 6,
     "metadata": {},
     "output_type": "execute_result"
    }
   ],
   "source": [
    "# Compile the model with accuracy metric and adam optimizer\n",
    "# Sparse categorical cross-entropy is the loss function for integer labels\n",
    "# Fit the model using 70 percent of the data and 10 epochs\n",
    "three_layer_model.compile(loss = 'sparse_categorical_crossentropy', \n",
    "                          optimizer = 'adam', metrics = ['accuracy'])\n",
    "three_layer_model.fit(train_images, train_labels, epochs = 10, \n",
    "                      validation_split = 0.3, verbose = 2)"
   ]
  },
  {
   "cell_type": "code",
   "execution_count": 31,
   "metadata": {},
   "outputs": [
    {
     "name": "stdout",
     "output_type": "stream",
     "text": [
      "10000/10000 [==============================] - 0s 14us/step\n",
      "Model with three layers and ten epochs -- Test loss: 36.64220314621925\n",
      "Model with three layers and ten epochs -- Test accuracy: 87.09\n"
     ]
    }
   ],
   "source": [
    "# Compute and print the test loss and accuracy\n",
    "test_loss, test_acc = three_layer_model.evaluate(test_images, test_labels)\n",
    "print(\"Model with three layers and ten epochs -- Test loss:\", test_loss * 100)\n",
    "print(\"Model with three layers and ten epochs -- Test accuracy:\", test_acc * 100)"
   ]
  },
  {
   "cell_type": "code",
   "execution_count": 32,
   "metadata": {},
   "outputs": [],
   "source": [
    "# Similarly as before, build a five-layer (3 hidden layers) model\n",
    "five_layer_model = Sequential()\n",
    "five_layer_model.add(Flatten(input_shape = (28, 28)))\n",
    "five_layer_model.add(Dense(128, activation = 'relu'))\n",
    "five_layer_model.add(Dense(128, activation = 'relu'))\n",
    "five_layer_model.add(Dense(128, activation = 'relu'))\n",
    "five_layer_model.add(Dense(10, activation = 'softmax'))"
   ]
  },
  {
   "cell_type": "code",
   "execution_count": 33,
   "metadata": {},
   "outputs": [
    {
     "name": "stdout",
     "output_type": "stream",
     "text": [
      "Train on 42000 samples, validate on 18000 samples\n",
      "Epoch 1/10\n",
      " - 3s - loss: 0.5278 - acc: 0.8103 - val_loss: 0.4236 - val_acc: 0.8461\n",
      "Epoch 2/10\n",
      " - 4s - loss: 0.3843 - acc: 0.8592 - val_loss: 0.3684 - val_acc: 0.8664\n",
      "Epoch 3/10\n",
      " - 3s - loss: 0.3430 - acc: 0.8735 - val_loss: 0.3724 - val_acc: 0.8654\n",
      "Epoch 4/10\n",
      " - 3s - loss: 0.3200 - acc: 0.8819 - val_loss: 0.3828 - val_acc: 0.8661\n",
      "Epoch 5/10\n",
      " - 3s - loss: 0.3012 - acc: 0.8873 - val_loss: 0.3639 - val_acc: 0.8648\n",
      "Epoch 6/10\n",
      " - 2s - loss: 0.2842 - acc: 0.8940 - val_loss: 0.3294 - val_acc: 0.8802\n",
      "Epoch 7/10\n",
      " - 2s - loss: 0.2747 - acc: 0.8968 - val_loss: 0.3431 - val_acc: 0.8776\n",
      "Epoch 8/10\n",
      " - 3s - loss: 0.2596 - acc: 0.9026 - val_loss: 0.3171 - val_acc: 0.8886\n",
      "Epoch 9/10\n",
      " - 3s - loss: 0.2493 - acc: 0.9052 - val_loss: 0.3398 - val_acc: 0.8817\n",
      "Epoch 10/10\n",
      " - 3s - loss: 0.2434 - acc: 0.9076 - val_loss: 0.3577 - val_acc: 0.8742\n"
     ]
    },
    {
     "data": {
      "text/plain": [
       "<keras.callbacks.History at 0x1588dc710>"
      ]
     },
     "execution_count": 33,
     "metadata": {},
     "output_type": "execute_result"
    }
   ],
   "source": [
    "# Compile the model with accuracy metric and adam optimizer\n",
    "# Fit the model using 70 percent of the data and 10 epochs\n",
    "five_layer_model.compile(loss = 'sparse_categorical_crossentropy', \n",
    "                         optimizer = 'adam', metrics = ['accuracy'])\n",
    "five_layer_model.fit(train_images, train_labels, epochs = 10, \n",
    "                     validation_split = 0.3, verbose = 2)"
   ]
  },
  {
   "cell_type": "code",
   "execution_count": 34,
   "metadata": {},
   "outputs": [
    {
     "name": "stdout",
     "output_type": "stream",
     "text": [
      "10000/10000 [==============================] - 0s 34us/step\n",
      "Model with five layers and ten epochs -- Test loss: 38.488838860988615\n",
      "Model with five layers and ten epochs -- Test accuracy: 86.03\n"
     ]
    }
   ],
   "source": [
    "# Compute and print the test loss and accuracy\n",
    "test_loss, test_acc = five_layer_model.evaluate(test_images, test_labels)\n",
    "print(\"Model with five layers and ten epochs -- Test loss:\", test_loss * 100)\n",
    "print(\"Model with five layers and ten epochs -- Test accuracy:\", test_acc * 100)"
   ]
  },
  {
   "cell_type": "code",
   "execution_count": 35,
   "metadata": {},
   "outputs": [],
   "source": [
    "# Similarly as before, build a ten-layer (8 hidden layers) model\n",
    "ten_layer_model = Sequential()\n",
    "ten_layer_model.add(Flatten(input_shape = (28, 28)))\n",
    "ten_layer_model.add(Dense(128, activation = 'relu'))\n",
    "ten_layer_model.add(Dense(128, activation = 'relu'))\n",
    "ten_layer_model.add(Dense(128, activation = 'relu'))\n",
    "ten_layer_model.add(Dense(128, activation = 'relu'))\n",
    "ten_layer_model.add(Dense(128, activation = 'relu'))\n",
    "ten_layer_model.add(Dense(128, activation = 'relu'))\n",
    "ten_layer_model.add(Dense(128, activation = 'relu'))\n",
    "ten_layer_model.add(Dense(128, activation = 'relu'))\n",
    "ten_layer_model.add(Dense(10, activation = 'softmax'))"
   ]
  },
  {
   "cell_type": "code",
   "execution_count": 36,
   "metadata": {},
   "outputs": [
    {
     "name": "stdout",
     "output_type": "stream",
     "text": [
      "Train on 42000 samples, validate on 18000 samples\n",
      "Epoch 1/10\n",
      " - 5s - loss: 0.5818 - acc: 0.7879 - val_loss: 0.5485 - val_acc: 0.8081\n",
      "Epoch 2/10\n",
      " - 5s - loss: 0.4234 - acc: 0.8480 - val_loss: 0.4156 - val_acc: 0.8493\n",
      "Epoch 3/10\n",
      " - 5s - loss: 0.3863 - acc: 0.8603 - val_loss: 0.4471 - val_acc: 0.8338\n",
      "Epoch 4/10\n",
      " - 5s - loss: 0.3597 - acc: 0.8697 - val_loss: 0.3600 - val_acc: 0.8714\n",
      "Epoch 5/10\n",
      " - 5s - loss: 0.3423 - acc: 0.8761 - val_loss: 0.3530 - val_acc: 0.8770\n",
      "Epoch 6/10\n",
      " - 6s - loss: 0.3266 - acc: 0.8809 - val_loss: 0.3722 - val_acc: 0.8708\n",
      "Epoch 7/10\n",
      " - 5s - loss: 0.3139 - acc: 0.8873 - val_loss: 0.3683 - val_acc: 0.8713\n",
      "Epoch 8/10\n",
      " - 6s - loss: 0.3015 - acc: 0.8897 - val_loss: 0.3334 - val_acc: 0.8824\n",
      "Epoch 9/10\n",
      " - 5s - loss: 0.2917 - acc: 0.8921 - val_loss: 0.3505 - val_acc: 0.8762\n",
      "Epoch 10/10\n",
      " - 5s - loss: 0.2829 - acc: 0.8964 - val_loss: 0.3382 - val_acc: 0.8821\n"
     ]
    },
    {
     "data": {
      "text/plain": [
       "<keras.callbacks.History at 0x1583fd860>"
      ]
     },
     "execution_count": 36,
     "metadata": {},
     "output_type": "execute_result"
    }
   ],
   "source": [
    "# Compile the model with accuracy metric and adam optimizer\n",
    "# Fit the model using 70 percent of the data and 10 epochs\n",
    "ten_layer_model.compile(loss = 'sparse_categorical_crossentropy', \n",
    "                        optimizer = 'adam', metrics = ['accuracy'])\n",
    "ten_layer_model.fit(train_images, train_labels, epochs = 10, \n",
    "                    validation_split = 0.3, verbose = 2)"
   ]
  },
  {
   "cell_type": "code",
   "execution_count": 37,
   "metadata": {},
   "outputs": [
    {
     "name": "stdout",
     "output_type": "stream",
     "text": [
      "10000/10000 [==============================] - 0s 38us/step\n",
      "Model with ten layers and ten epochs -- Test loss: 36.13102122664451\n",
      "Model with ten layers and ten epochs -- Test accuracy: 87.58\n"
     ]
    }
   ],
   "source": [
    "# Compute and print the test loss and accuracy\n",
    "test_loss, test_acc = ten_layer_model.evaluate(test_images, test_labels)\n",
    "print(\"Model with ten layers and ten epochs -- Test loss:\", test_loss * 100)\n",
    "print(\"Model with ten layers and ten epochs -- Test accuracy:\", test_acc * 100)"
   ]
  },
  {
   "cell_type": "code",
   "execution_count": 7,
   "metadata": {},
   "outputs": [
    {
     "name": "stdout",
     "output_type": "stream",
     "text": [
      "Train on 42000 samples, validate on 18000 samples\n",
      "Epoch 1/50\n",
      " - 2s - loss: 0.2380 - acc: 0.9109 - val_loss: 0.3264 - val_acc: 0.8854\n",
      "Epoch 2/50\n",
      " - 2s - loss: 0.2303 - acc: 0.9142 - val_loss: 0.3300 - val_acc: 0.8842\n",
      "Epoch 3/50\n",
      " - 2s - loss: 0.2201 - acc: 0.9187 - val_loss: 0.3325 - val_acc: 0.8842\n",
      "Epoch 4/50\n",
      " - 2s - loss: 0.2149 - acc: 0.9203 - val_loss: 0.3373 - val_acc: 0.8854\n",
      "Epoch 5/50\n",
      " - 2s - loss: 0.2098 - acc: 0.9213 - val_loss: 0.3133 - val_acc: 0.8929\n",
      "Epoch 6/50\n",
      " - 2s - loss: 0.2013 - acc: 0.9237 - val_loss: 0.3382 - val_acc: 0.8887\n",
      "Epoch 7/50\n",
      " - 2s - loss: 0.1959 - acc: 0.9265 - val_loss: 0.3345 - val_acc: 0.8881\n",
      "Epoch 8/50\n",
      " - 2s - loss: 0.1877 - acc: 0.9301 - val_loss: 0.3384 - val_acc: 0.8874\n",
      "Epoch 9/50\n",
      " - 2s - loss: 0.1822 - acc: 0.9316 - val_loss: 0.3352 - val_acc: 0.8887\n",
      "Epoch 10/50\n",
      " - 2s - loss: 0.1785 - acc: 0.9329 - val_loss: 0.3505 - val_acc: 0.8887\n",
      "Epoch 11/50\n",
      " - 2s - loss: 0.1710 - acc: 0.9375 - val_loss: 0.3702 - val_acc: 0.8837\n",
      "Epoch 12/50\n",
      " - 2s - loss: 0.1712 - acc: 0.9357 - val_loss: 0.3502 - val_acc: 0.8907\n",
      "Epoch 13/50\n",
      " - 2s - loss: 0.1631 - acc: 0.9377 - val_loss: 0.3427 - val_acc: 0.8935\n",
      "Epoch 14/50\n",
      " - 2s - loss: 0.1587 - acc: 0.9392 - val_loss: 0.3539 - val_acc: 0.8892\n",
      "Epoch 15/50\n",
      " - 2s - loss: 0.1565 - acc: 0.9410 - val_loss: 0.3835 - val_acc: 0.8864\n",
      "Epoch 16/50\n",
      " - 2s - loss: 0.1502 - acc: 0.9449 - val_loss: 0.3559 - val_acc: 0.8894\n",
      "Epoch 17/50\n",
      " - 2s - loss: 0.1456 - acc: 0.9451 - val_loss: 0.3684 - val_acc: 0.8912\n",
      "Epoch 18/50\n",
      " - 2s - loss: 0.1421 - acc: 0.9467 - val_loss: 0.3763 - val_acc: 0.8868\n",
      "Epoch 19/50\n",
      " - 2s - loss: 0.1409 - acc: 0.9478 - val_loss: 0.3775 - val_acc: 0.8902\n",
      "Epoch 20/50\n",
      " - 2s - loss: 0.1372 - acc: 0.9493 - val_loss: 0.3974 - val_acc: 0.8774\n",
      "Epoch 21/50\n",
      " - 2s - loss: 0.1341 - acc: 0.9495 - val_loss: 0.3957 - val_acc: 0.8906\n",
      "Epoch 22/50\n",
      " - 2s - loss: 0.1298 - acc: 0.9519 - val_loss: 0.3842 - val_acc: 0.8939\n",
      "Epoch 23/50\n",
      " - 2s - loss: 0.1292 - acc: 0.9514 - val_loss: 0.3803 - val_acc: 0.8913\n",
      "Epoch 24/50\n",
      " - 2s - loss: 0.1250 - acc: 0.9531 - val_loss: 0.3939 - val_acc: 0.8889\n",
      "Epoch 25/50\n",
      " - 2s - loss: 0.1219 - acc: 0.9546 - val_loss: 0.3997 - val_acc: 0.8917\n",
      "Epoch 26/50\n",
      " - 2s - loss: 0.1189 - acc: 0.9553 - val_loss: 0.4365 - val_acc: 0.8803\n",
      "Epoch 27/50\n",
      " - 2s - loss: 0.1149 - acc: 0.9564 - val_loss: 0.4095 - val_acc: 0.8882\n",
      "Epoch 28/50\n",
      " - 2s - loss: 0.1150 - acc: 0.9569 - val_loss: 0.4414 - val_acc: 0.8858\n",
      "Epoch 29/50\n",
      " - 2s - loss: 0.1090 - acc: 0.9593 - val_loss: 0.4334 - val_acc: 0.8901\n",
      "Epoch 30/50\n",
      " - 2s - loss: 0.1073 - acc: 0.9595 - val_loss: 0.4292 - val_acc: 0.8899\n",
      "Epoch 31/50\n",
      " - 2s - loss: 0.1049 - acc: 0.9613 - val_loss: 0.4384 - val_acc: 0.8849\n",
      "Epoch 32/50\n",
      " - 2s - loss: 0.1017 - acc: 0.9620 - val_loss: 0.4383 - val_acc: 0.8883\n",
      "Epoch 33/50\n",
      " - 2s - loss: 0.1027 - acc: 0.9618 - val_loss: 0.4370 - val_acc: 0.8897\n",
      "Epoch 34/50\n",
      " - 2s - loss: 0.0980 - acc: 0.9650 - val_loss: 0.4702 - val_acc: 0.8821\n",
      "Epoch 35/50\n",
      " - 2s - loss: 0.0955 - acc: 0.9641 - val_loss: 0.4760 - val_acc: 0.8834\n",
      "Epoch 36/50\n",
      " - 2s - loss: 0.0973 - acc: 0.9638 - val_loss: 0.4568 - val_acc: 0.8903\n",
      "Epoch 37/50\n",
      " - 2s - loss: 0.0906 - acc: 0.9665 - val_loss: 0.4347 - val_acc: 0.8924\n",
      "Epoch 38/50\n",
      " - 2s - loss: 0.0944 - acc: 0.9636 - val_loss: 0.4709 - val_acc: 0.8911\n",
      "Epoch 39/50\n",
      " - 2s - loss: 0.0885 - acc: 0.9672 - val_loss: 0.4761 - val_acc: 0.8857\n",
      "Epoch 40/50\n",
      " - 2s - loss: 0.0858 - acc: 0.9679 - val_loss: 0.4872 - val_acc: 0.8885\n",
      "Epoch 41/50\n",
      " - 2s - loss: 0.0868 - acc: 0.9671 - val_loss: 0.4738 - val_acc: 0.8901\n",
      "Epoch 42/50\n",
      " - 2s - loss: 0.0882 - acc: 0.9671 - val_loss: 0.4740 - val_acc: 0.8907\n",
      "Epoch 43/50\n",
      " - 2s - loss: 0.0829 - acc: 0.9697 - val_loss: 0.4880 - val_acc: 0.8878\n",
      "Epoch 44/50\n",
      " - 2s - loss: 0.0817 - acc: 0.9696 - val_loss: 0.4859 - val_acc: 0.8887\n",
      "Epoch 45/50\n",
      " - 2s - loss: 0.0812 - acc: 0.9693 - val_loss: 0.4888 - val_acc: 0.8912\n",
      "Epoch 46/50\n",
      " - 2s - loss: 0.0773 - acc: 0.9705 - val_loss: 0.5004 - val_acc: 0.8903\n",
      "Epoch 47/50\n",
      " - 2s - loss: 0.0770 - acc: 0.9717 - val_loss: 0.5121 - val_acc: 0.8898\n",
      "Epoch 48/50\n",
      " - 2s - loss: 0.0745 - acc: 0.9726 - val_loss: 0.5078 - val_acc: 0.8856\n",
      "Epoch 49/50\n",
      " - 3s - loss: 0.0734 - acc: 0.9727 - val_loss: 0.5066 - val_acc: 0.8908\n",
      "Epoch 50/50\n",
      " - 2s - loss: 0.0731 - acc: 0.9722 - val_loss: 0.4995 - val_acc: 0.8932\n"
     ]
    }
   ],
   "source": [
    "# Compile the model with accuracy metric and adam optimizer\n",
    "# Fit the model using 70 percent of the data and 50 epochs\n",
    "three_layer_model_50_epochs = three_layer_model.fit(train_images, train_labels, \n",
    "                                                  epochs = 50, validation_split = 0.3,\n",
    "                                                  verbose = 2)"
   ]
  },
  {
   "cell_type": "code",
   "execution_count": 9,
   "metadata": {},
   "outputs": [
    {
     "name": "stdout",
     "output_type": "stream",
     "text": [
      "10000/10000 [==============================] - 0s 19us/step\n",
      "Model with three layers and fifty epochs -- Test loss: 54.732778462767605\n",
      "Model with three layers and fifty epochs -- Test accuracy: 88.68\n"
     ]
    }
   ],
   "source": [
    "# Compute and print the test loss and accuracy\n",
    "test_loss, test_acc = three_layer_model.evaluate(test_images, test_labels)\n",
    "print(\"Model with three layers and fifty epochs -- Test loss:\", test_loss * 100)\n",
    "print(\"Model with three layers and fifty epochs -- Test accuracy:\", test_acc * 100)"
   ]
  },
  {
   "cell_type": "code",
   "execution_count": 12,
   "metadata": {},
   "outputs": [
    {
     "data": {
      "image/png": "[encoded data removed]",
      "text/plain": [
       "<Figure size 432x288 with 2 Axes>"
      ]
     },
     "metadata": {
      "needs_background": "light"
     },
     "output_type": "display_data"
    }
   ],
   "source": [
    "# Plot loss as function of epochs\n",
    "plt.subplot(1, 2, 1)\n",
    "plt.plot(three_layer_model_50_epochs.history['val_loss'], 'blue')\n",
    "plt.plot(three_layer_model_50_epochs.history['loss'], 'red')\n",
    "plt.legend(['Cross-validation', 'Training'], loc = 'upper left')\n",
    "plt.ylabel('Loss')\n",
    "plt.xlabel('Epoch')\n",
    "\n",
    "# Plot accuracy as function of epochs\n",
    "plt.subplot(1, 2, 2)\n",
    "plt.plot(three_layer_model_50_epochs.history['val_acc'], 'blue')\n",
    "plt.plot(three_layer_model_50_epochs.history['acc'], 'red')\n",
    "plt.ylabel('Accuracy')\n",
    "plt.xlabel('Epoch')\n",
    "plt.subplots_adjust(wspace = .35)\n",
    "\n",
    "# Include plot title and show the plot\n",
    "plt.suptitle('Model loss and accuracy over epochs for a three-layer neural network')\n",
    "plt.show()"
   ]
  },
  {
   "cell_type": "code",
   "execution_count": 13,
   "metadata": {},
   "outputs": [
    {
     "name": "stdout",
     "output_type": "stream",
     "text": [
      "Prediction 0: 9\n",
      "Actual 0: 9\n",
      "Prediction 1: 2\n",
      "Actual 1: 2\n",
      "Prediction 2: 1\n",
      "Actual 2: 1\n",
      "Prediction 3: 1\n",
      "Actual 3: 1\n",
      "Prediction 4: 0\n",
      "Actual 4: 6\n",
      "Prediction 5: 1\n",
      "Actual 5: 1\n",
      "Prediction 6: 4\n",
      "Actual 6: 4\n",
      "Prediction 7: 6\n",
      "Actual 7: 6\n",
      "Prediction 8: 5\n",
      "Actual 8: 5\n",
      "Prediction 9: 7\n",
      "Actual 9: 7\n"
     ]
    }
   ],
   "source": [
    "# Calculate and print predictions versus actual labels\n",
    "predictions = three_layer_model.predict(test_images)\n",
    "for i in range(10):\n",
    "  print(\"Prediction \" + str(i) + \": \" + str(np.argmax(np.round(predictions[i]))))\n",
    "  print(\"Actual \" + str(i) + \": \" + str(test_labels[i]))"
   ]
  },
  {
   "cell_type": "code",
   "execution_count": 20,
   "metadata": {},
   "outputs": [],
   "source": [
    "# Reload the data for a convolutional neural network\n",
    "(train_images, train_labels), (test_images, test_labels) = fashion_mnist.load_data()"
   ]
  },
  {
   "cell_type": "code",
   "execution_count": 21,
   "metadata": {},
   "outputs": [],
   "source": [
    "# Reshape the data to the correct format (the last 1 stands for greyscale)\n",
    "train_images = train_images.reshape(60000, 28, 28, 1)\n",
    "test_images = test_images.reshape(10000, 28, 28, 1)"
   ]
  },
  {
   "cell_type": "code",
   "execution_count": 22,
   "metadata": {},
   "outputs": [],
   "source": [
    "# Convert the image data to numeric data and normalize them\n",
    "train_images = train_images.astype('float32')\n",
    "test_images = test_images.astype('float32')\n",
    "train_images = train_images / train_images.max()\n",
    "test_images = test_images / test_images.max()"
   ]
  },
  {
   "cell_type": "code",
   "execution_count": 23,
   "metadata": {},
   "outputs": [],
   "source": [
    "# One-hot encode the label data\n",
    "# Convert every number to a vector of the length of the number of categories\n",
    "# The vector has zero everywhere except a one on the position of the number it \n",
    "# represents. Example: 3 = [0 0 0 1 0 0 0 0 0 0]\n",
    "train_labels_bin = to_categorical(train_labels)\n",
    "test_labels_bin = to_categorical(test_labels)"
   ]
  },
  {
   "cell_type": "code",
   "execution_count": 24,
   "metadata": {},
   "outputs": [],
   "source": [
    "# Build a convolutional neural network with two convolutional layers\n",
    "conv_model = Sequential()\n",
    "conv_model.add(Conv2D(128, (3, 3), input_shape = (28, 28, 1)))\n",
    "conv_model.add(Activation('relu'))\n",
    "conv_model.add(MaxPooling2D(pool_size = (2, 2)))\n",
    "conv_model.add(Conv2D(128, (3, 3)))\n",
    "conv_model.add(Activation('relu'))\n",
    "conv_model.add(MaxPooling2D(pool_size = (2, 2)))\n",
    "conv_model.add(Flatten())\n",
    "conv_model.add(Dense(128))\n",
    "conv_model.add(Dense(10))\n",
    "conv_model.add(Activation('softmax'))"
   ]
  },
  {
   "cell_type": "code",
   "execution_count": 25,
   "metadata": {},
   "outputs": [
    {
     "name": "stdout",
     "output_type": "stream",
     "text": [
      "Epoch 1/10\n",
      " - 127s - loss: 0.4629 - acc: 0.8333\n",
      "Epoch 2/10\n",
      " - 126s - loss: 0.3047 - acc: 0.8893\n",
      "Epoch 3/10\n",
      " - 120s - loss: 0.2619 - acc: 0.9052\n",
      "Epoch 4/10\n",
      " - 121s - loss: 0.2324 - acc: 0.9142\n",
      "Epoch 5/10\n"
     ]
    },
    {
     "ename": "KeyboardInterrupt",
     "evalue": "",
     "output_type": "error",
     "traceback": [
      "\u001b[0;31m---------------------------------------------------------------------------\u001b[0m",
      "\u001b[0;31mKeyboardInterrupt\u001b[0m                         Traceback (most recent call last)",
      "\u001b[0;32m<ipython-input-25-e91eb8fb38e3>\u001b[0m in \u001b[0;36m<module>\u001b[0;34m\u001b[0m\n\u001b[1;32m      5\u001b[0m                    optimizer = 'adam', metrics = ['accuracy'])\n\u001b[1;32m      6\u001b[0m conv_model.fit(train_images, train_labels_bin, batch_size = 128, \n\u001b[0;32m----> 7\u001b[0;31m                epochs = 10, verbose = 2)\n\u001b[0m",
      "\u001b[0;32m/Library/Frameworks/Python.framework/Versions/3.7/lib/python3.7/site-packages/keras/engine/training.py\u001b[0m in \u001b[0;36mfit\u001b[0;34m(self, x, y, batch_size, epochs, verbose, callbacks, validation_split, validation_data, shuffle, class_weight, sample_weight, initial_epoch, steps_per_epoch, validation_steps, **kwargs)\u001b[0m\n\u001b[1;32m   1037\u001b[0m                                         \u001b[0minitial_epoch\u001b[0m\u001b[0;34m=\u001b[0m\u001b[0minitial_epoch\u001b[0m\u001b[0;34m,\u001b[0m\u001b[0;34m\u001b[0m\u001b[0m\n\u001b[1;32m   1038\u001b[0m                                         \u001b[0msteps_per_epoch\u001b[0m\u001b[0;34m=\u001b[0m\u001b[0msteps_per_epoch\u001b[0m\u001b[0;34m,\u001b[0m\u001b[0;34m\u001b[0m\u001b[0m\n\u001b[0;32m-> 1039\u001b[0;31m                                         validation_steps=validation_steps)\n\u001b[0m\u001b[1;32m   1040\u001b[0m \u001b[0;34m\u001b[0m\u001b[0m\n\u001b[1;32m   1041\u001b[0m     def evaluate(self, x=None, y=None,\n",
      "\u001b[0;32m/Library/Frameworks/Python.framework/Versions/3.7/lib/python3.7/site-packages/keras/engine/training_arrays.py\u001b[0m in \u001b[0;36mfit_loop\u001b[0;34m(model, f, ins, out_labels, batch_size, epochs, verbose, callbacks, val_f, val_ins, shuffle, callback_metrics, initial_epoch, steps_per_epoch, validation_steps)\u001b[0m\n\u001b[1;32m    197\u001b[0m                     \u001b[0mins_batch\u001b[0m\u001b[0;34m[\u001b[0m\u001b[0mi\u001b[0m\u001b[0;34m]\u001b[0m \u001b[0;34m=\u001b[0m \u001b[0mins_batch\u001b[0m\u001b[0;34m[\u001b[0m\u001b[0mi\u001b[0m\u001b[0;34m]\u001b[0m\u001b[0;34m.\u001b[0m\u001b[0mtoarray\u001b[0m\u001b[0;34m(\u001b[0m\u001b[0;34m)\u001b[0m\u001b[0;34m\u001b[0m\u001b[0m\n\u001b[1;32m    198\u001b[0m \u001b[0;34m\u001b[0m\u001b[0m\n\u001b[0;32m--> 199\u001b[0;31m                 \u001b[0mouts\u001b[0m \u001b[0;34m=\u001b[0m \u001b[0mf\u001b[0m\u001b[0;34m(\u001b[0m\u001b[0mins_batch\u001b[0m\u001b[0;34m)\u001b[0m\u001b[0;34m\u001b[0m\u001b[0m\n\u001b[0m\u001b[1;32m    200\u001b[0m                 \u001b[0mouts\u001b[0m \u001b[0;34m=\u001b[0m \u001b[0mto_list\u001b[0m\u001b[0;34m(\u001b[0m\u001b[0mouts\u001b[0m\u001b[0;34m)\u001b[0m\u001b[0;34m\u001b[0m\u001b[0m\n\u001b[1;32m    201\u001b[0m                 \u001b[0;32mfor\u001b[0m \u001b[0ml\u001b[0m\u001b[0;34m,\u001b[0m \u001b[0mo\u001b[0m \u001b[0;32min\u001b[0m \u001b[0mzip\u001b[0m\u001b[0;34m(\u001b[0m\u001b[0mout_labels\u001b[0m\u001b[0;34m,\u001b[0m \u001b[0mouts\u001b[0m\u001b[0;34m)\u001b[0m\u001b[0;34m:\u001b[0m\u001b[0;34m\u001b[0m\u001b[0m\n",
      "\u001b[0;32m/Library/Frameworks/Python.framework/Versions/3.7/lib/python3.7/site-packages/keras/backend/tensorflow_backend.py\u001b[0m in \u001b[0;36m__call__\u001b[0;34m(self, inputs)\u001b[0m\n\u001b[1;32m   2713\u001b[0m                 \u001b[0;32mreturn\u001b[0m \u001b[0mself\u001b[0m\u001b[0;34m.\u001b[0m\u001b[0m_legacy_call\u001b[0m\u001b[0;34m(\u001b[0m\u001b[0minputs\u001b[0m\u001b[0;34m)\u001b[0m\u001b[0;34m\u001b[0m\u001b[0m\n\u001b[1;32m   2714\u001b[0m \u001b[0;34m\u001b[0m\u001b[0m\n\u001b[0;32m-> 2715\u001b[0;31m             \u001b[0;32mreturn\u001b[0m \u001b[0mself\u001b[0m\u001b[0;34m.\u001b[0m\u001b[0m_call\u001b[0m\u001b[0;34m(\u001b[0m\u001b[0minputs\u001b[0m\u001b[0;34m)\u001b[0m\u001b[0;34m\u001b[0m\u001b[0m\n\u001b[0m\u001b[1;32m   2716\u001b[0m         \u001b[0;32melse\u001b[0m\u001b[0;34m:\u001b[0m\u001b[0;34m\u001b[0m\u001b[0m\n\u001b[1;32m   2717\u001b[0m             \u001b[0;32mif\u001b[0m \u001b[0mpy_any\u001b[0m\u001b[0;34m(\u001b[0m\u001b[0mis_tensor\u001b[0m\u001b[0;34m(\u001b[0m\u001b[0mx\u001b[0m\u001b[0;34m)\u001b[0m \u001b[0;32mfor\u001b[0m \u001b[0mx\u001b[0m \u001b[0;32min\u001b[0m \u001b[0minputs\u001b[0m\u001b[0;34m)\u001b[0m\u001b[0;34m:\u001b[0m\u001b[0;34m\u001b[0m\u001b[0m\n",
      "\u001b[0;32m/Library/Frameworks/Python.framework/Versions/3.7/lib/python3.7/site-packages/keras/backend/tensorflow_backend.py\u001b[0m in \u001b[0;36m_call\u001b[0;34m(self, inputs)\u001b[0m\n\u001b[1;32m   2673\u001b[0m             \u001b[0mfetched\u001b[0m \u001b[0;34m=\u001b[0m \u001b[0mself\u001b[0m\u001b[0;34m.\u001b[0m\u001b[0m_callable_fn\u001b[0m\u001b[0;34m(\u001b[0m\u001b[0;34m*\u001b[0m\u001b[0marray_vals\u001b[0m\u001b[0;34m,\u001b[0m \u001b[0mrun_metadata\u001b[0m\u001b[0;34m=\u001b[0m\u001b[0mself\u001b[0m\u001b[0;34m.\u001b[0m\u001b[0mrun_metadata\u001b[0m\u001b[0;34m)\u001b[0m\u001b[0;34m\u001b[0m\u001b[0m\n\u001b[1;32m   2674\u001b[0m         \u001b[0;32melse\u001b[0m\u001b[0;34m:\u001b[0m\u001b[0;34m\u001b[0m\u001b[0m\n\u001b[0;32m-> 2675\u001b[0;31m             \u001b[0mfetched\u001b[0m \u001b[0;34m=\u001b[0m \u001b[0mself\u001b[0m\u001b[0;34m.\u001b[0m\u001b[0m_callable_fn\u001b[0m\u001b[0;34m(\u001b[0m\u001b[0;34m*\u001b[0m\u001b[0marray_vals\u001b[0m\u001b[0;34m)\u001b[0m\u001b[0;34m\u001b[0m\u001b[0m\n\u001b[0m\u001b[1;32m   2676\u001b[0m         \u001b[0;32mreturn\u001b[0m \u001b[0mfetched\u001b[0m\u001b[0;34m[\u001b[0m\u001b[0;34m:\u001b[0m\u001b[0mlen\u001b[0m\u001b[0;34m(\u001b[0m\u001b[0mself\u001b[0m\u001b[0;34m.\u001b[0m\u001b[0moutputs\u001b[0m\u001b[0;34m)\u001b[0m\u001b[0;34m]\u001b[0m\u001b[0;34m\u001b[0m\u001b[0m\n\u001b[1;32m   2677\u001b[0m \u001b[0;34m\u001b[0m\u001b[0m\n",
      "\u001b[0;32m/Library/Frameworks/Python.framework/Versions/3.7/lib/python3.7/site-packages/tensorflow/python/client/session.py\u001b[0m in \u001b[0;36m__call__\u001b[0;34m(self, *args, **kwargs)\u001b[0m\n\u001b[1;32m   1437\u001b[0m           ret = tf_session.TF_SessionRunCallable(\n\u001b[1;32m   1438\u001b[0m               \u001b[0mself\u001b[0m\u001b[0;34m.\u001b[0m\u001b[0m_session\u001b[0m\u001b[0;34m.\u001b[0m\u001b[0m_session\u001b[0m\u001b[0;34m,\u001b[0m \u001b[0mself\u001b[0m\u001b[0;34m.\u001b[0m\u001b[0m_handle\u001b[0m\u001b[0;34m,\u001b[0m \u001b[0margs\u001b[0m\u001b[0;34m,\u001b[0m \u001b[0mstatus\u001b[0m\u001b[0;34m,\u001b[0m\u001b[0;34m\u001b[0m\u001b[0m\n\u001b[0;32m-> 1439\u001b[0;31m               run_metadata_ptr)\n\u001b[0m\u001b[1;32m   1440\u001b[0m         \u001b[0;32mif\u001b[0m \u001b[0mrun_metadata\u001b[0m\u001b[0;34m:\u001b[0m\u001b[0;34m\u001b[0m\u001b[0m\n\u001b[1;32m   1441\u001b[0m           \u001b[0mproto_data\u001b[0m \u001b[0;34m=\u001b[0m \u001b[0mtf_session\u001b[0m\u001b[0;34m.\u001b[0m\u001b[0mTF_GetBuffer\u001b[0m\u001b[0;34m(\u001b[0m\u001b[0mrun_metadata_ptr\u001b[0m\u001b[0;34m)\u001b[0m\u001b[0;34m\u001b[0m\u001b[0m\n",
      "\u001b[0;31mKeyboardInterrupt\u001b[0m: "
     ]
    }
   ],
   "source": [
    "# Compile and fit the model with adam optimizer and accuracy metric\n",
    "# Categorical cross-entropy is the loss function for one-hot encoded labels and\n",
    "# batch size equal to the number of neurons in the convolutional layers and 10 epochs\n",
    "conv_model.compile(loss = \"categorical_crossentropy\", \n",
    "                   optimizer = 'adam', metrics = ['accuracy'])\n",
    "conv_model.fit(train_images, train_labels_bin, batch_size = 128, \n",
    "               epochs = 10, verbose = 2)"
   ]
  },
  {
   "cell_type": "code",
   "execution_count": null,
   "metadata": {},
   "outputs": [],
   "source": [
    "# Compute and print the test loss and accuracy\n",
    "test_loss, test_acc = conv_model.evaluate(test_images, test_labels_bin)\n",
    "print(\"Convolutional model ten epochs -- Test loss:\", test_loss * 100)\n",
    "print(\"Convolutional model ten epochs -- Test accuracy:\", test_acc * 100)"
   ]
  },
  {
   "cell_type": "code",
   "execution_count": 28,
   "metadata": {},
   "outputs": [],
   "source": [
    "# Build a convolutional neural network with two convolutional layers\n",
    "# Decrease number of neurons and add dropout to reduce overfitting\n",
    "conv_model_reduce_overfit = Sequential()\n",
    "conv_model_reduce_overfit.add(Conv2D(64, (3, 3), input_shape = (28, 28, 1)))\n",
    "conv_model_reduce_overfit.add(Activation('relu'))\n",
    "conv_model_reduce_overfit.add(MaxPooling2D(pool_size = (2, 2)))\n",
    "conv_model_reduce_overfit.add(Dropout(0.5))\n",
    "conv_model_reduce_overfit.add(Conv2D(64, (3, 3)))\n",
    "conv_model_reduce_overfit.add(SpatialDropout2D(0.5))\n",
    "conv_model_reduce_overfit.add(Activation('relu'))\n",
    "conv_model_reduce_overfit.add(MaxPooling2D(pool_size = (2, 2)))\n",
    "conv_model_reduce_overfit.add(Flatten())\n",
    "conv_model_reduce_overfit.add(Dense(64))\n",
    "conv_model_reduce_overfit.add(Dropout(0.5))\n",
    "conv_model_reduce_overfit.add(Dense(10))\n",
    "conv_model_reduce_overfit.add(Activation('softmax'))"
   ]
  },
  {
   "cell_type": "code",
   "execution_count": 29,
   "metadata": {},
   "outputs": [
    {
     "name": "stdout",
     "output_type": "stream",
     "text": [
      "Train on 42000 samples, validate on 18000 samples\n",
      "Epoch 1/10\n",
      " - 31s - loss: 0.7606 - acc: 0.7243 - val_loss: 0.4695 - val_acc: 0.8369\n",
      "Epoch 2/10\n",
      " - 34s - loss: 0.5165 - acc: 0.8166 - val_loss: 0.3896 - val_acc: 0.8603\n",
      "Epoch 3/10\n",
      " - 32s - loss: 0.4597 - acc: 0.8383 - val_loss: 0.3502 - val_acc: 0.8748\n",
      "Epoch 4/10\n",
      " - 33s - loss: 0.4294 - acc: 0.8476 - val_loss: 0.3333 - val_acc: 0.8774\n",
      "Epoch 5/10\n",
      " - 33s - loss: 0.4075 - acc: 0.8543 - val_loss: 0.3229 - val_acc: 0.8831\n",
      "Epoch 6/10\n",
      " - 34s - loss: 0.3951 - acc: 0.8602 - val_loss: 0.3167 - val_acc: 0.8839\n",
      "Epoch 7/10\n",
      " - 33s - loss: 0.3825 - acc: 0.8651 - val_loss: 0.3151 - val_acc: 0.8839\n",
      "Epoch 8/10\n",
      " - 35s - loss: 0.3751 - acc: 0.8678 - val_loss: 0.2962 - val_acc: 0.8916\n",
      "Epoch 9/10\n",
      " - 35s - loss: 0.3686 - acc: 0.8698 - val_loss: 0.3034 - val_acc: 0.8879\n",
      "Epoch 10/10\n",
      " - 33s - loss: 0.3642 - acc: 0.8699 - val_loss: 0.2917 - val_acc: 0.8936\n"
     ]
    },
    {
     "data": {
      "text/plain": [
       "<keras.callbacks.History at 0x135a84208>"
      ]
     },
     "execution_count": 29,
     "metadata": {},
     "output_type": "execute_result"
    }
   ],
   "source": [
    "# Compile and fit the model with adam optimizer and accuracy metric\n",
    "# Categorical cross-entropy is the loss function for one-hot encoded labels and\n",
    "# batch size equal to the number of neurons in the convolutional layers and 10 epochs\n",
    "# Add early stopping to avoid overfitting\n",
    "conv_model_reduce_overfit.compile(loss = \"categorical_crossentropy\", \n",
    "                   optimizer = 'adam', metrics = ['accuracy'])\n",
    "conv_callback = keras.callbacks.EarlyStopping(monitor = 'val_loss', patience = 3)\n",
    "conv_model_reduce_overfit.fit(train_images, train_labels_bin, validation_split = 0.3,\n",
    "               epochs = 10, verbose = 2, callbacks = [conv_callback], batch_size = 64)"
   ]
  },
  {
   "cell_type": "code",
   "execution_count": 30,
   "metadata": {},
   "outputs": [
    {
     "name": "stdout",
     "output_type": "stream",
     "text": [
      "10000/10000 [==============================] - 2s 208us/step\n",
      "Convolutional model ten epochs reduced overfit -- Test loss: 30.780641422271728\n",
      "Convolutional model ten epochs reduced overfit -- Test accuracy: 88.83\n"
     ]
    }
   ],
   "source": [
    "# Compute and print the test loss and accuracy\n",
    "test_loss, test_acc = conv_model_reduce_overfit.evaluate(test_images, test_labels_bin)\n",
    "print(\"Convolutional model ten epochs reduced overfit -- Test loss:\", test_loss * 100)\n",
    "print(\"Convolutional model ten epochs reduced overfit -- Test accuracy:\", test_acc * 100)"
   ]
  },
  {
   "cell_type": "code",
   "execution_count": 32,
   "metadata": {},
   "outputs": [
    {
     "name": "stdout",
     "output_type": "stream",
     "text": [
      "Prediction 0: 9\n",
      "Actual 0: 9\n",
      "Prediction 1: 2\n",
      "Actual 1: 2\n",
      "Prediction 2: 1\n",
      "Actual 2: 1\n",
      "Prediction 3: 1\n",
      "Actual 3: 1\n",
      "Prediction 4: 6\n",
      "Actual 4: 6\n",
      "Prediction 5: 1\n",
      "Actual 5: 1\n",
      "Prediction 6: 4\n",
      "Actual 6: 4\n",
      "Prediction 7: 6\n",
      "Actual 7: 6\n",
      "Prediction 8: 5\n",
      "Actual 8: 5\n",
      "Prediction 9: 7\n",
      "Actual 9: 7\n"
     ]
    }
   ],
   "source": [
    "# Calculate and print predictions versus actual labels\n",
    "predictions = conv_model_reduce_overfit.predict(test_images)\n",
    "for i in range(10):\n",
    "  print(\"Prediction \" + str(i) + \": \" + str(np.argmax(np.round(predictions[i]))))\n",
    "  print(\"Actual \" + str(i) + \": \" + str(test_labels[i]))"
   ]
  }
 ],
 "metadata": {
  "kernelspec": {
   "display_name": "Python 3",
   "language": "python",
   "name": "python3"
  },
  "language_info": {
   "codemirror_mode": {
    "name": "ipython",
    "version": 3
   },
   "file_extension": ".py",
   "mimetype": "text/x-python",
   "name": "python",
   "nbconvert_exporter": "python",
   "pygments_lexer": "ipython3",
   "version": "3.7.0"
  }
 },
 "nbformat": 4,
 "nbformat_minor": 2
}
